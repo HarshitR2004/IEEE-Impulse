{
 "cells": [
  {
   "cell_type": "code",
   "execution_count": 1,
   "id": "5f20fccc",
   "metadata": {
    "execution": {
     "iopub.execute_input": "2025-01-18T07:53:41.842515Z",
     "iopub.status.busy": "2025-01-18T07:53:41.842187Z",
     "iopub.status.idle": "2025-01-18T07:53:45.527283Z",
     "shell.execute_reply": "2025-01-18T07:53:45.526260Z"
    },
    "papermill": {
     "duration": 3.690156,
     "end_time": "2025-01-18T07:53:45.529228",
     "exception": false,
     "start_time": "2025-01-18T07:53:41.839072",
     "status": "completed"
    },
    "tags": []
   },
   "outputs": [],
   "source": [
    "import torch\n",
    "import torch.nn as nn\n",
    "import torch.nn.functional as F"
   ]
  },
  {
   "cell_type": "code",
   "execution_count": 2,
   "id": "90fb0e1c",
   "metadata": {
    "execution": {
     "iopub.execute_input": "2025-01-18T07:53:45.533989Z",
     "iopub.status.busy": "2025-01-18T07:53:45.533542Z",
     "iopub.status.idle": "2025-01-18T07:53:45.545282Z",
     "shell.execute_reply": "2025-01-18T07:53:45.544337Z"
    },
    "papermill": {
     "duration": 0.015497,
     "end_time": "2025-01-18T07:53:45.546783",
     "exception": false,
     "start_time": "2025-01-18T07:53:45.531286",
     "status": "completed"
    },
    "tags": []
   },
   "outputs": [],
   "source": [
    "class AttentionBlock(nn.Module):\n",
    "    def __init__(self, input_dim):\n",
    "        super(AttentionBlock, self).__init__()\n",
    "        self.attention = nn.Sequential(\n",
    "            nn.Linear(input_dim, input_dim // 4),\n",
    "            nn.ReLU(),\n",
    "            nn.Linear(input_dim // 4, input_dim),\n",
    "            nn.Sigmoid()\n",
    "        )\n",
    "        \n",
    "    def forward(self, x):\n",
    "        attention_weights = self.attention(x)\n",
    "        return x * attention_weights\n",
    "\n",
    "class ResidualBlock(nn.Module):\n",
    "    def __init__(self, input_dim, hidden_dim):\n",
    "        super(ResidualBlock, self).__init__()\n",
    "        self.fc1 = nn.Linear(input_dim, hidden_dim)\n",
    "        self.fc2 = nn.Linear(hidden_dim, input_dim)\n",
    "        self.bn1 = nn.BatchNorm1d(hidden_dim)\n",
    "        self.bn2 = nn.BatchNorm1d(input_dim)\n",
    "        self.dropout = nn.Dropout(0.3)\n",
    "        \n",
    "    def forward(self, x):\n",
    "        identity = x\n",
    "        out = F.relu(self.bn1(self.fc1(x)))\n",
    "        out = self.dropout(out)\n",
    "        out = self.bn2(self.fc2(out))\n",
    "        out += identity\n",
    "        return F.relu(out)\n",
    "\n",
    "class EEGClassifier(nn.Module):\n",
    "    def __init__(self, input_size, num_classes=4):\n",
    "        super(EEGClassifier, self).__init__()\n",
    "        \n",
    "        # Initial dimension reduction\n",
    "        self.fc_input = nn.Linear(input_size, 512)\n",
    "        self.bn_input = nn.BatchNorm1d(512)\n",
    "        \n",
    "        # Attention mechanism\n",
    "        self.attention1 = AttentionBlock(512)\n",
    "        \n",
    "        # Residual blocks\n",
    "        self.res_block1 = ResidualBlock(512, 256)\n",
    "        self.res_block2 = ResidualBlock(512, 256)\n",
    "        \n",
    "        # Second attention layer\n",
    "        self.attention2 = AttentionBlock(512)\n",
    "        \n",
    "        # Final classification layers\n",
    "        self.fc1 = nn.Linear(512, 256)\n",
    "        self.bn1 = nn.BatchNorm1d(256)\n",
    "        self.fc2 = nn.Linear(256, 128)\n",
    "        self.bn2 = nn.BatchNorm1d(128)\n",
    "        self.fc3 = nn.Linear(128, num_classes)\n",
    "        \n",
    "        self.dropout = nn.Dropout(0.4)\n",
    "        \n",
    "    def forward(self, x):\n",
    "        # Initial processing\n",
    "        x = F.relu(self.bn_input(self.fc_input(x)))\n",
    "        \n",
    "        # First attention mechanism\n",
    "        x = self.attention1(x)\n",
    "        \n",
    "        # Residual blocks\n",
    "        x = self.res_block1(x)\n",
    "        x = self.res_block2(x)\n",
    "        \n",
    "        # Second attention mechanism\n",
    "        x = self.attention2(x)\n",
    "        \n",
    "        # Final classification\n",
    "        x = F.relu(self.bn1(self.fc1(x)))\n",
    "        x = self.dropout(x)\n",
    "        x = F.relu(self.bn2(self.fc2(x)))\n",
    "        x = self.dropout(x)\n",
    "        x = self.fc3(x)\n",
    "        \n",
    "        return x\n"
   ]
  }
 ],
 "metadata": {
  "kaggle": {
   "accelerator": "none",
   "dataSources": [],
   "dockerImageVersionId": 30839,
   "isGpuEnabled": false,
   "isInternetEnabled": true,
   "language": "python",
   "sourceType": "notebook"
  },
  "kernelspec": {
   "display_name": "Python 3",
   "language": "python",
   "name": "python3"
  },
  "language_info": {
   "codemirror_mode": {
    "name": "ipython",
    "version": 3
   },
   "file_extension": ".py",
   "mimetype": "text/x-python",
   "name": "python",
   "nbconvert_exporter": "python",
   "pygments_lexer": "ipython3",
   "version": "3.10.12"
  },
  "papermill": {
   "default_parameters": {},
   "duration": 8.394617,
   "end_time": "2025-01-18T07:53:47.775375",
   "environment_variables": {},
   "exception": null,
   "input_path": "__notebook__.ipynb",
   "output_path": "__notebook__.ipynb",
   "parameters": {},
   "start_time": "2025-01-18T07:53:39.380758",
   "version": "2.6.0"
  }
 },
 "nbformat": 4,
 "nbformat_minor": 5
}
