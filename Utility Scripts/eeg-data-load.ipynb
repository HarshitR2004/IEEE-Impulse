{
 "cells": [
  {
   "cell_type": "code",
   "execution_count": 1,
   "id": "f5b44f1e",
   "metadata": {
    "execution": {
     "iopub.execute_input": "2025-01-17T12:18:06.383905Z",
     "iopub.status.busy": "2025-01-17T12:18:06.383509Z",
     "iopub.status.idle": "2025-01-17T12:18:54.374198Z",
     "shell.execute_reply": "2025-01-17T12:18:54.372946Z"
    },
    "papermill": {
     "duration": 47.995598,
     "end_time": "2025-01-17T12:18:54.376148",
     "exception": false,
     "start_time": "2025-01-17T12:18:06.380550",
     "status": "completed"
    },
    "tags": []
   },
   "outputs": [
    {
     "name": "stdout",
     "output_type": "stream",
     "text": [
      "Data shape: (5608, 19, 500)\n",
      "Labels shape: (5608,)\n"
     ]
    }
   ],
   "source": [
    "import numpy as np\n",
    "import os\n",
    "from typing import Tuple\n",
    "\n",
    "def load_eeg_data(dataset_path: str, class_labels: list) -> Tuple[np.ndarray, np.ndarray]:\n",
    "    \"\"\"\n",
    "    Load EEG data and corresponding labels from the dataset directory.\n",
    "\n",
    "    Parameters:\n",
    "        dataset_path (str): Path to the dataset directory.\n",
    "        class_labels (list): List of class label names corresponding to subfolders.\n",
    "\n",
    "    Returns:\n",
    "        Tuple[np.ndarray, np.ndarray]: A tuple containing data (X) and labels (y).\n",
    "    \"\"\"\n",
    "    X, y = [], []\n",
    "\n",
    "    for label, class_name in enumerate(class_labels):\n",
    "        class_folder = os.path.join(dataset_path, class_name)\n",
    "        if not os.path.exists(class_folder):\n",
    "            print(f\"Warning: Class folder {class_folder} does not exist.\")\n",
    "            continue\n",
    "\n",
    "        for file_name in os.listdir(class_folder):\n",
    "            if file_name.endswith(\".npy\"):\n",
    "                file_path = os.path.join(class_folder, file_name)\n",
    "                data = np.load(file_path)\n",
    "                X.append(data)\n",
    "                y.append(label)\n",
    "\n",
    "    # Convert lists to numpy arrays\n",
    "    X = np.array(X)\n",
    "    y = np.array(y)\n",
    "\n",
    "    return X, y\n",
    "\n",
    "def main():\n",
    "    dataset_path = \"/kaggle/input/eeg-train/train_data\"\n",
    "\n",
    "    # Define class labels according to the provided table\n",
    "    class_labels = [\n",
    "        \"Normal\",\n",
    "        \"Complex_Partial_Seizures\",\n",
    "        \"Electrographic_Seizures\",\n",
    "        \"Video_detected_Seizures_with_no_visual_change_over_EEG\",\n",
    "    ]\n",
    "\n",
    "    # Load the data\n",
    "    X, y = load_eeg_data(dataset_path, class_labels)\n",
    "\n",
    "    # Print shapes to verify\n",
    "    print(f\"Data shape: {X.shape}\")\n",
    "    print(f\"Labels shape: {y.shape}\")\n",
    "\n",
    "if __name__ == \"__main__\":\n",
    "    main()\n"
   ]
  }
 ],
 "metadata": {
  "kaggle": {
   "accelerator": "none",
   "dataSources": [
    {
     "datasetId": 6498413,
     "sourceId": 10495682,
     "sourceType": "datasetVersion"
    }
   ],
   "dockerImageVersionId": 30839,
   "isGpuEnabled": false,
   "isInternetEnabled": true,
   "language": "python",
   "sourceType": "notebook"
  },
  "kernelspec": {
   "display_name": "Python 3",
   "language": "python",
   "name": "python3"
  },
  "language_info": {
   "codemirror_mode": {
    "name": "ipython",
    "version": 3
   },
   "file_extension": ".py",
   "mimetype": "text/x-python",
   "name": "python",
   "nbconvert_exporter": "python",
   "pygments_lexer": "ipython3",
   "version": "3.10.12"
  },
  "papermill": {
   "default_parameters": {},
   "duration": 50.972351,
   "end_time": "2025-01-17T12:18:54.796901",
   "environment_variables": {},
   "exception": null,
   "input_path": "__notebook__.ipynb",
   "output_path": "__notebook__.ipynb",
   "parameters": {},
   "start_time": "2025-01-17T12:18:03.824550",
   "version": "2.6.0"
  }
 },
 "nbformat": 4,
 "nbformat_minor": 5
}
